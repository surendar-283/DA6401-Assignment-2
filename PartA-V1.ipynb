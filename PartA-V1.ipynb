{
  "nbformat": 4,
  "nbformat_minor": 0,
  "metadata": {
    "colab": {
      "provenance": [],
      "gpuType": "T4",
      "mount_file_id": "18TkechN0vBCDcm6Zs8IumqicxWGZHxTC",
      "authorship_tag": "ABX9TyPggCT61p/PYlBJAywuGL9x",
      "include_colab_link": true
    },
    "kernelspec": {
      "name": "python3",
      "display_name": "Python 3"
    },
    "language_info": {
      "name": "python"
    },
    "accelerator": "GPU"
  },
  "cells": [
    {
      "cell_type": "markdown",
      "metadata": {
        "id": "view-in-github",
        "colab_type": "text"
      },
      "source": [
        "<a href=\"https://colab.research.google.com/github/surendar-283/DA6401-Assignment-2/blob/main/DA6401_A2.ipynb\" target=\"_parent\"><img src=\"https://colab.research.google.com/assets/colab-badge.svg\" alt=\"Open In Colab\"/></a>"
      ]
    },
    {
      "cell_type": "code",
      "source": [
        "import torch\n",
        "import torch.nn as nn\n",
        "import torch.optim as optim\n",
        "import torchvision.transforms as transforms\n",
        "from torchvision.datasets import ImageFolder\n",
        "from torch.utils.data import DataLoader, random_split\n",
        "import wandb\n",
        "from tqdm import tqdm\n",
        "import os\n",
        "\n",
        "class NatureNet(nn.Module):\n",
        "    def __init__(self,\n",
        "                 conv_filters=[32, 32, 32, 32, 32],\n",
        "                 kernel_sizes=[3, 3, 3, 3, 3],\n",
        "                 dense_units=[128],\n",
        "                 dropout_rate=0.2,\n",
        "                 use_batchnorm=True,\n",
        "                 activation='relu',\n",
        "                 input_shape=(224, 224, 3),\n",
        "                 num_classes=10):\n",
        "        super(NatureNet, self).__init__()\n",
        "\n",
        "        # Activation function mapping\n",
        "        activation_fns = {\n",
        "            'relu': nn.ReLU(),\n",
        "            'leaky_relu': nn.LeakyReLU(0.1),\n",
        "            'gelu': nn.GELU()\n",
        "        }\n",
        "        self.activation = activation_fns.get(activation, nn.ReLU())\n",
        "\n",
        "        self.conv_blocks = nn.ModuleList()\n",
        "        in_channels = input_shape[2]\n",
        "\n",
        "        # Create convolutional blocks\n",
        "        for i in range(5):\n",
        "            conv_layer = nn.Conv2d(\n",
        "                in_channels=in_channels,\n",
        "                out_channels=conv_filters[i],\n",
        "                kernel_size=kernel_sizes[i],\n",
        "                padding='same'\n",
        "            )\n",
        "\n",
        "            block = [conv_layer, self.activation]\n",
        "\n",
        "            if use_batchnorm:\n",
        "                block.append(nn.BatchNorm2d(conv_filters[i]))\n",
        "\n",
        "            block.append(nn.MaxPool2d(kernel_size=2, stride=2))\n",
        "\n",
        "            if dropout_rate > 0 and i < 4:\n",
        "                block.append(nn.Dropout(dropout_rate))\n",
        "\n",
        "            self.conv_blocks.append(nn.Sequential(*block))\n",
        "            in_channels = conv_filters[i]\n",
        "\n",
        "        # Calculate flattened size\n",
        "        with torch.no_grad():\n",
        "            dummy_input = torch.zeros(1, input_shape[2], input_shape[0], input_shape[1])\n",
        "            for block in self.conv_blocks:\n",
        "                dummy_input = block(dummy_input)\n",
        "            flattened_size = dummy_input.view(1, -1).shape[1]\n",
        "\n",
        "        # Create dense layers\n",
        "        dense_layers = []\n",
        "        prev_neurons = flattened_size\n",
        "\n",
        "        for units in dense_units:\n",
        "            dense_layers.append(nn.Linear(prev_neurons, units))\n",
        "            dense_layers.append(self.activation)\n",
        "            if dropout_rate > 0:\n",
        "                dense_layers.append(nn.Dropout(dropout_rate))\n",
        "            prev_neurons = units\n",
        "\n",
        "        # Output layer\n",
        "        dense_layers.append(nn.Linear(prev_neurons, num_classes))\n",
        "\n",
        "        self.dense_layers = nn.Sequential(\n",
        "            nn.Flatten(),\n",
        "            *dense_layers\n",
        "        )\n",
        "\n",
        "    def forward(self, x):\n",
        "        for block in self.conv_blocks:\n",
        "            x = block(x)\n",
        "        x = self.dense_layers(x)\n",
        "        return x\n",
        "\n",
        "def get_data_loaders(data_dir, batch_size=32, val_split=0.2, augment=False):\n",
        "    # Define transforms\n",
        "    base_transform = [\n",
        "        transforms.Resize((224, 224)),\n",
        "        transforms.ToTensor(),\n",
        "        transforms.Normalize(mean=[0.485, 0.456, 0.406],\n",
        "                           std=[0.229, 0.224, 0.225])\n",
        "    ]\n",
        "\n",
        "    if augment:\n",
        "        train_transform = transforms.Compose([\n",
        "            transforms.RandomResizedCrop(224),\n",
        "            transforms.RandomHorizontalFlip(),\n",
        "            *base_transform\n",
        "        ])\n",
        "    else:\n",
        "        train_transform = transforms.Compose(base_transform)\n",
        "\n",
        "    test_transform = transforms.Compose(base_transform)\n",
        "\n",
        "    # Load dataset\n",
        "    full_train = ImageFolder(os.path.join(data_dir, 'train'),\n",
        "                           transform=train_transform)\n",
        "    test_data = ImageFolder(os.path.join(data_dir, 'val'),\n",
        "                          transform=test_transform)\n",
        "\n",
        "    # Split train into train and validation\n",
        "    val_size = int(val_split * len(full_train))\n",
        "    train_size = len(full_train) - val_size\n",
        "    train_data, val_data = random_split(full_train, [train_size, val_size])\n",
        "\n",
        "    # Create dataloaders\n",
        "    train_loader = DataLoader(train_data, batch_size=batch_size,\n",
        "                            shuffle=True, num_workers=4, pin_memory=True)\n",
        "    val_loader = DataLoader(val_data, batch_size=batch_size,\n",
        "                          shuffle=False, num_workers=4, pin_memory=True)\n",
        "    test_loader = DataLoader(test_data, batch_size=batch_size,\n",
        "                           shuffle=False, num_workers=4, pin_memory=True)\n",
        "\n",
        "    return train_loader, val_loader, test_loader, full_train.classes\n",
        "\n",
        "def train_and_validate(config=None):\n",
        "    with wandb.init(config=config) as run:\n",
        "        config = wandb.config\n",
        "\n",
        "        # Set descriptive run name\n",
        "        run.name = (f\"filters_{'-'.join(map(str, config.conv_filters))}_\"\n",
        "                   f\"dense_{'-'.join(map(str, config.dense_units))}_\"\n",
        "                   f\"lr_{config.learning_rate:.0e}_\"\n",
        "                   f\"bs_{config.batch_size}\")\n",
        "\n",
        "        # Load data\n",
        "        train_loader, val_loader, _, classes = get_data_loaders(\n",
        "            data_dir='/content/drive/MyDrive/inaturalist_12K',\n",
        "            batch_size=config.batch_size,\n",
        "            augment=config.data_augmentation\n",
        "        )\n",
        "\n",
        "        # Initialize model\n",
        "        model = NatureNet(\n",
        "            conv_filters=config.conv_filters,\n",
        "            kernel_sizes=config.kernel_sizes,\n",
        "            dense_units=config.dense_units,\n",
        "            dropout_rate=config.dropout_rate,\n",
        "            use_batchnorm=config.use_batchnorm,\n",
        "            activation=config.activation,\n",
        "            num_classes=len(classes)\n",
        "        )\n",
        "\n",
        "        device = torch.device('cuda' if torch.cuda.is_available() else 'cpu')\n",
        "        model = model.to(device)\n",
        "\n",
        "        # Initialize optimizer with weight decay\n",
        "        optimizer = optim.Adam(\n",
        "            model.parameters(),\n",
        "            lr=config.learning_rate,\n",
        "            weight_decay=config.weight_decay\n",
        "        )\n",
        "        criterion = nn.CrossEntropyLoss()\n",
        "\n",
        "        # Training loop\n",
        "        for epoch in range(1, 21):  # Fixed 20 epochs\n",
        "            model.train()\n",
        "            train_loss, correct, total = 0.0, 0, 0\n",
        "\n",
        "            with tqdm(train_loader, unit=\"batch\") as train_bar:\n",
        "                for inputs, labels in train_bar:\n",
        "                    inputs, labels = inputs.to(device), labels.to(device)\n",
        "\n",
        "                    optimizer.zero_grad()\n",
        "                    outputs = model(inputs)\n",
        "                    loss = criterion(outputs, labels)\n",
        "                    loss.backward()\n",
        "                    optimizer.step()\n",
        "\n",
        "                    train_loss += loss.item()\n",
        "                    _, predicted = outputs.max(1)\n",
        "                    total += labels.size(0)\n",
        "                    correct += predicted.eq(labels).sum().item()\n",
        "\n",
        "                    train_bar.set_postfix({\n",
        "                        'loss': f'{loss.item():.4f}',\n",
        "                        'acc': f'{100.*correct/total:.1f}%'\n",
        "                    })\n",
        "\n",
        "            # Calculate epoch metrics\n",
        "            train_acc = 100. * correct / total\n",
        "            train_loss /= len(train_loader)\n",
        "\n",
        "            # Validation\n",
        "            val_loss, val_acc = evaluate_model(model, val_loader, criterion, device)\n",
        "\n",
        "            # Log metrics\n",
        "            wandb.log({\n",
        "                'epoch': epoch,\n",
        "                'train_loss': train_loss,\n",
        "                'train_acc': train_acc,\n",
        "                'val_loss': val_loss,\n",
        "                'val_acc': val_acc\n",
        "            })\n",
        "\n",
        "def evaluate_model(model, loader, criterion, device):\n",
        "    model.eval()\n",
        "    loss, correct, total = 0.0, 0, 0\n",
        "\n",
        "    with torch.no_grad():\n",
        "        for inputs, labels in loader:\n",
        "            inputs, labels = inputs.to(device), labels.to(device)\n",
        "            outputs = model(inputs)\n",
        "            loss += criterion(outputs, labels).item()\n",
        "            _, predicted = outputs.max(1)\n",
        "            total += labels.size(0)\n",
        "            correct += predicted.eq(labels).sum().item()\n",
        "\n",
        "    return loss / len(loader), 100. * correct / total\n",
        "\n",
        "if __name__ == '__main__':\n",
        "    # Define sweep configuration\n",
        "    sweep_config = {\n",
        "        'method': 'bayes',\n",
        "        'metric': {'name': 'val_acc', 'goal': 'maximize'},\n",
        "        'parameters': {\n",
        "            'conv_filters': {\n",
        "                'values': [\n",
        "                    [32, 32, 32, 32, 32],\n",
        "                    [64, 64, 64, 64, 64],\n",
        "                    [16, 32, 64, 128, 256],\n",
        "                    [256, 128, 64, 32, 16]\n",
        "                ]\n",
        "            },\n",
        "            'kernel_sizes': {\n",
        "                'values': [\n",
        "                    [3, 3, 3, 3, 3],\n",
        "                    [5, 5, 5, 5, 5],\n",
        "                    [3, 5, 3, 5, 3]\n",
        "                ]\n",
        "            },\n",
        "            'dense_units': {\n",
        "                'values': [\n",
        "                    [64],\n",
        "                    [128],\n",
        "                    [64, 128],\n",
        "                    [256, 128]\n",
        "                ]\n",
        "            },\n",
        "            'learning_rate': {\n",
        "                'values':[1e-3,1e-4]\n",
        "            },\n",
        "            'weight_decay': {\n",
        "                'values': [0, 0.0001, 0.001, 0.01]\n",
        "            },\n",
        "            'dropout_rate': {\n",
        "                'values': [0.0, 0.2, 0.3, 0.5]\n",
        "            },\n",
        "            'use_batchnorm': {\n",
        "                'values': [True, False]\n",
        "            },\n",
        "            'batch_size': {\n",
        "                'values': [32, 64, 128]\n",
        "            },\n",
        "            'data_augmentation': {\n",
        "                'values': [True, False]\n",
        "            },\n",
        "            'activation': {\n",
        "                'values': ['relu', 'leaky_relu', 'gelu']\n",
        "            }\n",
        "        }\n",
        "    }\n",
        "\n",
        "    # Initialize wandb\n",
        "    wandb.login()\n",
        "\n",
        "    # Create and run sweep\n",
        "    sweep_id = wandb.sweep(sweep_config, project='DA6401_A2')\n",
        "    wandb.agent(sweep_id, function=train_and_validate, count=30)"
      ],
      "metadata": {
        "id": "qcsBgzNcf3UL",
        "colab": {
          "base_uri": "https://localhost:8080/",
          "height": 1000
        },
        "outputId": "34597c36-5b23-438b-c5e5-b317101a566f"
      },
      "execution_count": null,
      "outputs": [
        {
          "output_type": "stream",
          "name": "stdout",
          "text": [
            "Create sweep with ID: 5fyrhqnv\n",
            "Sweep URL: https://wandb.ai/surendarmohan283-indian-institute-of-technology-madras/DA6401_A2/sweeps/5fyrhqnv\n"
          ]
        },
        {
          "output_type": "stream",
          "name": "stderr",
          "text": [
            "\u001b[34m\u001b[1mwandb\u001b[0m: Agent Starting Run: hgybznr6 with config:\n",
            "\u001b[34m\u001b[1mwandb\u001b[0m: \tactivation: leaky_relu\n",
            "\u001b[34m\u001b[1mwandb\u001b[0m: \tbatch_size: 32\n",
            "\u001b[34m\u001b[1mwandb\u001b[0m: \tconv_filters: [64, 64, 64, 64, 64]\n",
            "\u001b[34m\u001b[1mwandb\u001b[0m: \tdata_augmentation: False\n",
            "\u001b[34m\u001b[1mwandb\u001b[0m: \tdense_units: [128]\n",
            "\u001b[34m\u001b[1mwandb\u001b[0m: \tdropout_rate: 0.3\n",
            "\u001b[34m\u001b[1mwandb\u001b[0m: \tkernel_sizes: [5, 5, 5, 5, 5]\n",
            "\u001b[34m\u001b[1mwandb\u001b[0m: \tlearning_rate: 0.001\n",
            "\u001b[34m\u001b[1mwandb\u001b[0m: \tuse_batchnorm: False\n",
            "\u001b[34m\u001b[1mwandb\u001b[0m: \tweight_decay: 0\n"
          ]
        },
        {
          "output_type": "display_data",
          "data": {
            "text/plain": [
              "<IPython.core.display.HTML object>"
            ],
            "text/html": [
              "Tracking run with wandb version 0.19.9"
            ]
          },
          "metadata": {}
        },
        {
          "output_type": "display_data",
          "data": {
            "text/plain": [
              "<IPython.core.display.HTML object>"
            ],
            "text/html": [
              "Run data is saved locally in <code>/content/wandb/run-20250412_084829-hgybznr6</code>"
            ]
          },
          "metadata": {}
        },
        {
          "output_type": "display_data",
          "data": {
            "text/plain": [
              "<IPython.core.display.HTML object>"
            ],
            "text/html": [
              "Syncing run <strong><a href='https://wandb.ai/surendarmohan283-indian-institute-of-technology-madras/DA6401_A2/runs/hgybznr6' target=\"_blank\">young-sweep-1</a></strong> to <a href='https://wandb.ai/surendarmohan283-indian-institute-of-technology-madras/DA6401_A2' target=\"_blank\">Weights & Biases</a> (<a href='https://wandb.me/developer-guide' target=\"_blank\">docs</a>)<br>Sweep page: <a href='https://wandb.ai/surendarmohan283-indian-institute-of-technology-madras/DA6401_A2/sweeps/5fyrhqnv' target=\"_blank\">https://wandb.ai/surendarmohan283-indian-institute-of-technology-madras/DA6401_A2/sweeps/5fyrhqnv</a>"
            ]
          },
          "metadata": {}
        },
        {
          "output_type": "display_data",
          "data": {
            "text/plain": [
              "<IPython.core.display.HTML object>"
            ],
            "text/html": [
              " View project at <a href='https://wandb.ai/surendarmohan283-indian-institute-of-technology-madras/DA6401_A2' target=\"_blank\">https://wandb.ai/surendarmohan283-indian-institute-of-technology-madras/DA6401_A2</a>"
            ]
          },
          "metadata": {}
        },
        {
          "output_type": "display_data",
          "data": {
            "text/plain": [
              "<IPython.core.display.HTML object>"
            ],
            "text/html": [
              " View sweep at <a href='https://wandb.ai/surendarmohan283-indian-institute-of-technology-madras/DA6401_A2/sweeps/5fyrhqnv' target=\"_blank\">https://wandb.ai/surendarmohan283-indian-institute-of-technology-madras/DA6401_A2/sweeps/5fyrhqnv</a>"
            ]
          },
          "metadata": {}
        },
        {
          "output_type": "display_data",
          "data": {
            "text/plain": [
              "<IPython.core.display.HTML object>"
            ],
            "text/html": [
              " View run at <a href='https://wandb.ai/surendarmohan283-indian-institute-of-technology-madras/DA6401_A2/runs/hgybznr6' target=\"_blank\">https://wandb.ai/surendarmohan283-indian-institute-of-technology-madras/DA6401_A2/runs/hgybznr6</a>"
            ]
          },
          "metadata": {}
        },
        {
          "output_type": "stream",
          "name": "stderr",
          "text": [
            "100%|██████████| 251/251 [01:59<00:00,  2.10batch/s, loss=2.2590, acc=14.1%]\n",
            "100%|██████████| 251/251 [01:50<00:00,  2.28batch/s, loss=2.1465, acc=16.1%]\n",
            "100%|██████████| 251/251 [01:52<00:00,  2.23batch/s, loss=2.0210, acc=15.1%]\n",
            "100%|██████████| 251/251 [01:55<00:00,  2.18batch/s, loss=2.6807, acc=19.3%]\n",
            "100%|██████████| 251/251 [01:57<00:00,  2.13batch/s, loss=2.2421, acc=22.2%]\n",
            "100%|██████████| 251/251 [01:54<00:00,  2.19batch/s, loss=2.6362, acc=23.1%]\n",
            "100%|██████████| 251/251 [01:55<00:00,  2.18batch/s, loss=1.8629, acc=24.7%]\n",
            "100%|██████████| 251/251 [01:56<00:00,  2.16batch/s, loss=2.3063, acc=25.6%]\n",
            "100%|██████████| 251/251 [01:59<00:00,  2.10batch/s, loss=1.9266, acc=26.7%]\n",
            "100%|██████████| 251/251 [01:56<00:00,  2.16batch/s, loss=1.6313, acc=27.3%]\n",
            "100%|██████████| 251/251 [01:55<00:00,  2.16batch/s, loss=2.1270, acc=28.6%]\n",
            "100%|██████████| 251/251 [01:57<00:00,  2.13batch/s, loss=1.8506, acc=29.1%]\n",
            "100%|██████████| 251/251 [01:57<00:00,  2.13batch/s, loss=1.7611, acc=30.3%]\n",
            "100%|██████████| 251/251 [01:55<00:00,  2.18batch/s, loss=1.9786, acc=31.7%]\n",
            "100%|██████████| 251/251 [01:56<00:00,  2.15batch/s, loss=1.7809, acc=33.1%]\n",
            "100%|██████████| 251/251 [01:51<00:00,  2.25batch/s, loss=1.7369, acc=33.0%]\n",
            "100%|██████████| 251/251 [01:51<00:00,  2.26batch/s, loss=1.7915, acc=34.0%]\n",
            "100%|██████████| 251/251 [01:52<00:00,  2.24batch/s, loss=2.3170, acc=35.3%]\n",
            "100%|██████████| 251/251 [01:54<00:00,  2.20batch/s, loss=2.0862, acc=36.7%]\n",
            "100%|██████████| 251/251 [01:58<00:00,  2.12batch/s, loss=1.7284, acc=37.9%]\n"
          ]
        },
        {
          "output_type": "display_data",
          "data": {
            "text/plain": [
              "<IPython.core.display.HTML object>"
            ],
            "text/html": []
          },
          "metadata": {}
        },
        {
          "output_type": "display_data",
          "data": {
            "text/plain": [
              "<IPython.core.display.HTML object>"
            ],
            "text/html": [
              "<br>    <style><br>        .wandb-row {<br>            display: flex;<br>            flex-direction: row;<br>            flex-wrap: wrap;<br>            justify-content: flex-start;<br>            width: 100%;<br>        }<br>        .wandb-col {<br>            display: flex;<br>            flex-direction: column;<br>            flex-basis: 100%;<br>            flex: 1;<br>            padding: 10px;<br>        }<br>    </style><br><div class=\"wandb-row\"><div class=\"wandb-col\"><h3>Run history:</h3><br/><table class=\"wandb\"><tr><td>epoch</td><td>▁▁▂▂▂▃▃▄▄▄▅▅▅▆▆▇▇▇██</td></tr><tr><td>train_acc</td><td>▁▂▁▃▃▄▄▄▅▅▅▅▆▆▇▇▇▇██</td></tr><tr><td>train_loss</td><td>▃█▄▃▃▃▂▂▂▂▂▂▂▂▂▂▁▁▁▁</td></tr><tr><td>val_acc</td><td>▃▁▄▄▄▄▄▅▆▆▆▆▇▇▆▇▇▇▇█</td></tr><tr><td>val_loss</td><td>▃█▃▂▃▂▂▂▂▂▂▂▁▁▂▂▁▁▁▁</td></tr></table><br/></div><div class=\"wandb-col\"><h3>Run summary:</h3><br/><table class=\"wandb\"><tr><td>epoch</td><td>20</td></tr><tr><td>train_acc</td><td>37.94955</td></tr><tr><td>train_loss</td><td>1.77479</td></tr><tr><td>val_acc</td><td>34.48276</td></tr><tr><td>val_loss</td><td>1.89692</td></tr></table><br/></div></div>"
            ]
          },
          "metadata": {}
        },
        {
          "output_type": "display_data",
          "data": {
            "text/plain": [
              "<IPython.core.display.HTML object>"
            ],
            "text/html": [
              " View run <strong style=\"color:#cdcd00\">filters_64-64-64-64-64_dense_128_lr_1e-03_bs_32</strong> at: <a href='https://wandb.ai/surendarmohan283-indian-institute-of-technology-madras/DA6401_A2/runs/hgybznr6' target=\"_blank\">https://wandb.ai/surendarmohan283-indian-institute-of-technology-madras/DA6401_A2/runs/hgybznr6</a><br> View project at: <a href='https://wandb.ai/surendarmohan283-indian-institute-of-technology-madras/DA6401_A2' target=\"_blank\">https://wandb.ai/surendarmohan283-indian-institute-of-technology-madras/DA6401_A2</a><br>Synced 5 W&B file(s), 0 media file(s), 0 artifact file(s) and 0 other file(s)"
            ]
          },
          "metadata": {}
        },
        {
          "output_type": "display_data",
          "data": {
            "text/plain": [
              "<IPython.core.display.HTML object>"
            ],
            "text/html": [
              "Find logs at: <code>./wandb/run-20250412_084829-hgybznr6/logs</code>"
            ]
          },
          "metadata": {}
        },
        {
          "output_type": "stream",
          "name": "stderr",
          "text": [
            "\u001b[34m\u001b[1mwandb\u001b[0m: Agent Starting Run: r0jvffwo with config:\n",
            "\u001b[34m\u001b[1mwandb\u001b[0m: \tactivation: gelu\n",
            "\u001b[34m\u001b[1mwandb\u001b[0m: \tbatch_size: 32\n",
            "\u001b[34m\u001b[1mwandb\u001b[0m: \tconv_filters: [256, 128, 64, 32, 16]\n",
            "\u001b[34m\u001b[1mwandb\u001b[0m: \tdata_augmentation: True\n",
            "\u001b[34m\u001b[1mwandb\u001b[0m: \tdense_units: [64]\n",
            "\u001b[34m\u001b[1mwandb\u001b[0m: \tdropout_rate: 0.3\n",
            "\u001b[34m\u001b[1mwandb\u001b[0m: \tkernel_sizes: [5, 5, 5, 5, 5]\n",
            "\u001b[34m\u001b[1mwandb\u001b[0m: \tlearning_rate: 0.0001\n",
            "\u001b[34m\u001b[1mwandb\u001b[0m: \tuse_batchnorm: False\n",
            "\u001b[34m\u001b[1mwandb\u001b[0m: \tweight_decay: 0.0001\n"
          ]
        },
        {
          "output_type": "display_data",
          "data": {
            "text/plain": [
              "<IPython.core.display.HTML object>"
            ],
            "text/html": [
              "Tracking run with wandb version 0.19.9"
            ]
          },
          "metadata": {}
        },
        {
          "output_type": "display_data",
          "data": {
            "text/plain": [
              "<IPython.core.display.HTML object>"
            ],
            "text/html": [
              "Run data is saved locally in <code>/content/wandb/run-20250412_093628-r0jvffwo</code>"
            ]
          },
          "metadata": {}
        },
        {
          "output_type": "display_data",
          "data": {
            "text/plain": [
              "<IPython.core.display.HTML object>"
            ],
            "text/html": [
              "Syncing run <strong><a href='https://wandb.ai/surendarmohan283-indian-institute-of-technology-madras/DA6401_A2/runs/r0jvffwo' target=\"_blank\">golden-sweep-2</a></strong> to <a href='https://wandb.ai/surendarmohan283-indian-institute-of-technology-madras/DA6401_A2' target=\"_blank\">Weights & Biases</a> (<a href='https://wandb.me/developer-guide' target=\"_blank\">docs</a>)<br>Sweep page: <a href='https://wandb.ai/surendarmohan283-indian-institute-of-technology-madras/DA6401_A2/sweeps/5fyrhqnv' target=\"_blank\">https://wandb.ai/surendarmohan283-indian-institute-of-technology-madras/DA6401_A2/sweeps/5fyrhqnv</a>"
            ]
          },
          "metadata": {}
        },
        {
          "output_type": "display_data",
          "data": {
            "text/plain": [
              "<IPython.core.display.HTML object>"
            ],
            "text/html": [
              " View project at <a href='https://wandb.ai/surendarmohan283-indian-institute-of-technology-madras/DA6401_A2' target=\"_blank\">https://wandb.ai/surendarmohan283-indian-institute-of-technology-madras/DA6401_A2</a>"
            ]
          },
          "metadata": {}
        },
        {
          "output_type": "display_data",
          "data": {
            "text/plain": [
              "<IPython.core.display.HTML object>"
            ],
            "text/html": [
              " View sweep at <a href='https://wandb.ai/surendarmohan283-indian-institute-of-technology-madras/DA6401_A2/sweeps/5fyrhqnv' target=\"_blank\">https://wandb.ai/surendarmohan283-indian-institute-of-technology-madras/DA6401_A2/sweeps/5fyrhqnv</a>"
            ]
          },
          "metadata": {}
        },
        {
          "output_type": "display_data",
          "data": {
            "text/plain": [
              "<IPython.core.display.HTML object>"
            ],
            "text/html": [
              " View run at <a href='https://wandb.ai/surendarmohan283-indian-institute-of-technology-madras/DA6401_A2/runs/r0jvffwo' target=\"_blank\">https://wandb.ai/surendarmohan283-indian-institute-of-technology-madras/DA6401_A2/runs/r0jvffwo</a>"
            ]
          },
          "metadata": {}
        },
        {
          "output_type": "stream",
          "name": "stderr",
          "text": [
            "100%|██████████| 251/251 [02:04<00:00,  2.01batch/s, loss=2.2610, acc=15.2%]\n",
            "100%|██████████| 251/251 [02:01<00:00,  2.06batch/s, loss=1.9664, acc=20.8%]\n",
            "100%|██████████| 251/251 [01:57<00:00,  2.14batch/s, loss=1.9696, acc=22.9%]\n",
            "100%|██████████| 251/251 [01:57<00:00,  2.13batch/s, loss=2.0252, acc=23.7%]\n",
            "100%|██████████| 251/251 [02:00<00:00,  2.08batch/s, loss=1.8070, acc=24.5%]\n",
            "100%|██████████| 251/251 [01:55<00:00,  2.17batch/s, loss=1.8428, acc=26.1%]\n",
            "100%|██████████| 251/251 [01:58<00:00,  2.11batch/s, loss=1.8896, acc=26.8%]\n",
            "100%|██████████| 251/251 [01:59<00:00,  2.10batch/s, loss=2.1532, acc=27.4%]\n",
            "100%|██████████| 251/251 [01:58<00:00,  2.12batch/s, loss=2.3810, acc=28.2%]\n",
            "100%|██████████| 251/251 [02:01<00:00,  2.06batch/s, loss=1.9311, acc=29.7%]\n",
            "100%|██████████| 251/251 [01:55<00:00,  2.17batch/s, loss=2.4487, acc=30.4%]\n",
            "100%|██████████| 251/251 [01:59<00:00,  2.09batch/s, loss=1.6467, acc=30.5%]\n",
            "100%|██████████| 251/251 [01:57<00:00,  2.13batch/s, loss=1.3628, acc=31.3%]\n",
            "100%|██████████| 251/251 [01:58<00:00,  2.11batch/s, loss=2.3726, acc=31.2%]\n",
            "100%|██████████| 251/251 [01:57<00:00,  2.13batch/s, loss=1.6542, acc=31.8%]\n",
            "100%|██████████| 251/251 [01:59<00:00,  2.10batch/s, loss=2.1836, acc=32.7%]\n",
            "100%|██████████| 251/251 [01:57<00:00,  2.13batch/s, loss=1.5487, acc=33.3%]\n",
            "100%|██████████| 251/251 [01:59<00:00,  2.11batch/s, loss=1.5447, acc=33.7%]\n",
            "100%|██████████| 251/251 [01:57<00:00,  2.14batch/s, loss=1.7856, acc=34.6%]\n",
            "100%|██████████| 251/251 [01:53<00:00,  2.21batch/s, loss=1.7007, acc=35.0%]\n"
          ]
        },
        {
          "output_type": "display_data",
          "data": {
            "text/plain": [
              "<IPython.core.display.HTML object>"
            ],
            "text/html": []
          },
          "metadata": {}
        },
        {
          "output_type": "display_data",
          "data": {
            "text/plain": [
              "<IPython.core.display.HTML object>"
            ],
            "text/html": [
              "<br>    <style><br>        .wandb-row {<br>            display: flex;<br>            flex-direction: row;<br>            flex-wrap: wrap;<br>            justify-content: flex-start;<br>            width: 100%;<br>        }<br>        .wandb-col {<br>            display: flex;<br>            flex-direction: column;<br>            flex-basis: 100%;<br>            flex: 1;<br>            padding: 10px;<br>        }<br>    </style><br><div class=\"wandb-row\"><div class=\"wandb-col\"><h3>Run history:</h3><br/><table class=\"wandb\"><tr><td>epoch</td><td>▁▁▂▂▂▃▃▄▄▄▅▅▅▆▆▇▇▇██</td></tr><tr><td>train_acc</td><td>▁▃▄▄▄▅▅▅▆▆▆▆▇▇▇▇▇███</td></tr><tr><td>train_loss</td><td>█▇▆▆▅▅▄▄▄▃▃▃▃▂▂▂▂▁▁▁</td></tr><tr><td>val_acc</td><td>▁▁▂▃▃▄▄▅▅▅▆▇▇▇▇▇▇███</td></tr><tr><td>val_loss</td><td>█▇▇▆▆▅▅▄▄▄▃▃▂▂▂▃▂▁▁▁</td></tr></table><br/></div><div class=\"wandb-col\"><h3>Run summary:</h3><br/><table class=\"wandb\"><tr><td>epoch</td><td>20</td></tr><tr><td>train_acc</td><td>34.95255</td></tr><tr><td>train_loss</td><td>1.84006</td></tr><tr><td>val_acc</td><td>36.08196</td></tr><tr><td>val_loss</td><td>1.83449</td></tr></table><br/></div></div>"
            ]
          },
          "metadata": {}
        },
        {
          "output_type": "display_data",
          "data": {
            "text/plain": [
              "<IPython.core.display.HTML object>"
            ],
            "text/html": [
              " View run <strong style=\"color:#cdcd00\">filters_256-128-64-32-16_dense_64_lr_1e-04_bs_32</strong> at: <a href='https://wandb.ai/surendarmohan283-indian-institute-of-technology-madras/DA6401_A2/runs/r0jvffwo' target=\"_blank\">https://wandb.ai/surendarmohan283-indian-institute-of-technology-madras/DA6401_A2/runs/r0jvffwo</a><br> View project at: <a href='https://wandb.ai/surendarmohan283-indian-institute-of-technology-madras/DA6401_A2' target=\"_blank\">https://wandb.ai/surendarmohan283-indian-institute-of-technology-madras/DA6401_A2</a><br>Synced 5 W&B file(s), 0 media file(s), 0 artifact file(s) and 0 other file(s)"
            ]
          },
          "metadata": {}
        },
        {
          "output_type": "display_data",
          "data": {
            "text/plain": [
              "<IPython.core.display.HTML object>"
            ],
            "text/html": [
              "Find logs at: <code>./wandb/run-20250412_093628-r0jvffwo/logs</code>"
            ]
          },
          "metadata": {}
        },
        {
          "output_type": "stream",
          "name": "stderr",
          "text": [
            "\u001b[34m\u001b[1mwandb\u001b[0m: Agent Starting Run: jlsqidfq with config:\n",
            "\u001b[34m\u001b[1mwandb\u001b[0m: \tactivation: gelu\n",
            "\u001b[34m\u001b[1mwandb\u001b[0m: \tbatch_size: 128\n",
            "\u001b[34m\u001b[1mwandb\u001b[0m: \tconv_filters: [32, 32, 32, 32, 32]\n",
            "\u001b[34m\u001b[1mwandb\u001b[0m: \tdata_augmentation: True\n",
            "\u001b[34m\u001b[1mwandb\u001b[0m: \tdense_units: [64]\n",
            "\u001b[34m\u001b[1mwandb\u001b[0m: \tdropout_rate: 0\n",
            "\u001b[34m\u001b[1mwandb\u001b[0m: \tkernel_sizes: [3, 5, 3, 5, 3]\n",
            "\u001b[34m\u001b[1mwandb\u001b[0m: \tlearning_rate: 0.001\n",
            "\u001b[34m\u001b[1mwandb\u001b[0m: \tuse_batchnorm: True\n",
            "\u001b[34m\u001b[1mwandb\u001b[0m: \tweight_decay: 0.0001\n"
          ]
        },
        {
          "output_type": "display_data",
          "data": {
            "text/plain": [
              "<IPython.core.display.HTML object>"
            ],
            "text/html": [
              "Tracking run with wandb version 0.19.9"
            ]
          },
          "metadata": {}
        },
        {
          "output_type": "display_data",
          "data": {
            "text/plain": [
              "<IPython.core.display.HTML object>"
            ],
            "text/html": [
              "Run data is saved locally in <code>/content/wandb/run-20250412_102513-jlsqidfq</code>"
            ]
          },
          "metadata": {}
        },
        {
          "output_type": "display_data",
          "data": {
            "text/plain": [
              "<IPython.core.display.HTML object>"
            ],
            "text/html": [
              "Syncing run <strong><a href='https://wandb.ai/surendarmohan283-indian-institute-of-technology-madras/DA6401_A2/runs/jlsqidfq' target=\"_blank\">comic-sweep-3</a></strong> to <a href='https://wandb.ai/surendarmohan283-indian-institute-of-technology-madras/DA6401_A2' target=\"_blank\">Weights & Biases</a> (<a href='https://wandb.me/developer-guide' target=\"_blank\">docs</a>)<br>Sweep page: <a href='https://wandb.ai/surendarmohan283-indian-institute-of-technology-madras/DA6401_A2/sweeps/5fyrhqnv' target=\"_blank\">https://wandb.ai/surendarmohan283-indian-institute-of-technology-madras/DA6401_A2/sweeps/5fyrhqnv</a>"
            ]
          },
          "metadata": {}
        },
        {
          "output_type": "display_data",
          "data": {
            "text/plain": [
              "<IPython.core.display.HTML object>"
            ],
            "text/html": [
              " View project at <a href='https://wandb.ai/surendarmohan283-indian-institute-of-technology-madras/DA6401_A2' target=\"_blank\">https://wandb.ai/surendarmohan283-indian-institute-of-technology-madras/DA6401_A2</a>"
            ]
          },
          "metadata": {}
        },
        {
          "output_type": "display_data",
          "data": {
            "text/plain": [
              "<IPython.core.display.HTML object>"
            ],
            "text/html": [
              " View sweep at <a href='https://wandb.ai/surendarmohan283-indian-institute-of-technology-madras/DA6401_A2/sweeps/5fyrhqnv' target=\"_blank\">https://wandb.ai/surendarmohan283-indian-institute-of-technology-madras/DA6401_A2/sweeps/5fyrhqnv</a>"
            ]
          },
          "metadata": {}
        },
        {
          "output_type": "display_data",
          "data": {
            "text/plain": [
              "<IPython.core.display.HTML object>"
            ],
            "text/html": [
              " View run at <a href='https://wandb.ai/surendarmohan283-indian-institute-of-technology-madras/DA6401_A2/runs/jlsqidfq' target=\"_blank\">https://wandb.ai/surendarmohan283-indian-institute-of-technology-madras/DA6401_A2/runs/jlsqidfq</a>"
            ]
          },
          "metadata": {}
        },
        {
          "output_type": "stream",
          "name": "stderr",
          "text": [
            "100%|██████████| 63/63 [01:50<00:00,  1.75s/batch, loss=2.1398, acc=22.5%]\n",
            "100%|██████████| 63/63 [01:49<00:00,  1.74s/batch, loss=2.0561, acc=27.4%]\n",
            "100%|██████████| 63/63 [01:52<00:00,  1.78s/batch, loss=1.9418, acc=29.1%]\n",
            "100%|██████████| 63/63 [01:53<00:00,  1.80s/batch, loss=1.9049, acc=30.8%]\n",
            "100%|██████████| 63/63 [01:46<00:00,  1.70s/batch, loss=1.9000, acc=31.3%]\n",
            "100%|██████████| 63/63 [01:42<00:00,  1.63s/batch, loss=1.9387, acc=32.6%]\n",
            "100%|██████████| 63/63 [01:44<00:00,  1.65s/batch, loss=1.9469, acc=34.6%]\n",
            "100%|██████████| 63/63 [01:45<00:00,  1.68s/batch, loss=1.8709, acc=34.8%]\n",
            "100%|██████████| 63/63 [01:46<00:00,  1.68s/batch, loss=1.7360, acc=35.2%]\n",
            "100%|██████████| 63/63 [01:41<00:00,  1.62s/batch, loss=1.9548, acc=37.5%]\n",
            "100%|██████████| 63/63 [01:47<00:00,  1.71s/batch, loss=1.7201, acc=37.8%]\n",
            "100%|██████████| 63/63 [01:47<00:00,  1.70s/batch, loss=1.7250, acc=38.2%]\n",
            "100%|██████████| 63/63 [01:44<00:00,  1.66s/batch, loss=1.9525, acc=38.7%]\n",
            "100%|██████████| 63/63 [01:41<00:00,  1.61s/batch, loss=1.7967, acc=39.9%]\n",
            "100%|██████████| 63/63 [01:40<00:00,  1.60s/batch, loss=1.6807, acc=40.4%]\n",
            "100%|██████████| 63/63 [01:43<00:00,  1.64s/batch, loss=1.6530, acc=41.3%]\n",
            "100%|██████████| 63/63 [01:37<00:00,  1.56s/batch, loss=1.4940, acc=41.7%]\n",
            "100%|██████████| 63/63 [01:41<00:00,  1.61s/batch, loss=1.7770, acc=42.6%]\n",
            "100%|██████████| 63/63 [01:43<00:00,  1.65s/batch, loss=1.6361, acc=43.0%]\n",
            "100%|██████████| 63/63 [01:45<00:00,  1.67s/batch, loss=1.6488, acc=43.0%]\n"
          ]
        },
        {
          "output_type": "display_data",
          "data": {
            "text/plain": [
              "<IPython.core.display.HTML object>"
            ],
            "text/html": []
          },
          "metadata": {}
        },
        {
          "output_type": "display_data",
          "data": {
            "text/plain": [
              "<IPython.core.display.HTML object>"
            ],
            "text/html": [
              "<br>    <style><br>        .wandb-row {<br>            display: flex;<br>            flex-direction: row;<br>            flex-wrap: wrap;<br>            justify-content: flex-start;<br>            width: 100%;<br>        }<br>        .wandb-col {<br>            display: flex;<br>            flex-direction: column;<br>            flex-basis: 100%;<br>            flex: 1;<br>            padding: 10px;<br>        }<br>    </style><br><div class=\"wandb-row\"><div class=\"wandb-col\"><h3>Run history:</h3><br/><table class=\"wandb\"><tr><td>epoch</td><td>▁▁▂▂▂▃▃▄▄▄▅▅▅▆▆▇▇▇██</td></tr><tr><td>train_acc</td><td>▁▃▃▄▄▄▅▅▅▆▆▆▇▇▇▇████</td></tr><tr><td>train_loss</td><td>█▇▆▅▅▅▄▄▄▃▃▃▃▂▂▂▂▁▁▁</td></tr><tr><td>val_acc</td><td>▁▂▂▃▄▃▃▄▅▄▅▆▄▇▇▆█▅▇▇</td></tr><tr><td>val_loss</td><td>█▇▇▆▅▄▆▄▃▆▄▃▅▁▁▂▁▅▂▁</td></tr></table><br/></div><div class=\"wandb-col\"><h3>Run summary:</h3><br/><table class=\"wandb\"><tr><td>epoch</td><td>20</td></tr><tr><td>train_acc</td><td>43.03197</td></tr><tr><td>train_loss</td><td>1.62283</td></tr><tr><td>val_acc</td><td>38.03098</td></tr><tr><td>val_loss</td><td>1.7828</td></tr></table><br/></div></div>"
            ]
          },
          "metadata": {}
        },
        {
          "output_type": "display_data",
          "data": {
            "text/plain": [
              "<IPython.core.display.HTML object>"
            ],
            "text/html": [
              " View run <strong style=\"color:#cdcd00\">filters_32-32-32-32-32_dense_64_lr_1e-03_bs_128</strong> at: <a href='https://wandb.ai/surendarmohan283-indian-institute-of-technology-madras/DA6401_A2/runs/jlsqidfq' target=\"_blank\">https://wandb.ai/surendarmohan283-indian-institute-of-technology-madras/DA6401_A2/runs/jlsqidfq</a><br> View project at: <a href='https://wandb.ai/surendarmohan283-indian-institute-of-technology-madras/DA6401_A2' target=\"_blank\">https://wandb.ai/surendarmohan283-indian-institute-of-technology-madras/DA6401_A2</a><br>Synced 5 W&B file(s), 0 media file(s), 0 artifact file(s) and 0 other file(s)"
            ]
          },
          "metadata": {}
        },
        {
          "output_type": "display_data",
          "data": {
            "text/plain": [
              "<IPython.core.display.HTML object>"
            ],
            "text/html": [
              "Find logs at: <code>./wandb/run-20250412_102513-jlsqidfq/logs</code>"
            ]
          },
          "metadata": {}
        },
        {
          "output_type": "stream",
          "name": "stderr",
          "text": [
            "\u001b[34m\u001b[1mwandb\u001b[0m: Agent Starting Run: 9sy6k60j with config:\n",
            "\u001b[34m\u001b[1mwandb\u001b[0m: \tactivation: gelu\n",
            "\u001b[34m\u001b[1mwandb\u001b[0m: \tbatch_size: 128\n",
            "\u001b[34m\u001b[1mwandb\u001b[0m: \tconv_filters: [32, 32, 32, 32, 32]\n",
            "\u001b[34m\u001b[1mwandb\u001b[0m: \tdata_augmentation: True\n",
            "\u001b[34m\u001b[1mwandb\u001b[0m: \tdense_units: [128]\n",
            "\u001b[34m\u001b[1mwandb\u001b[0m: \tdropout_rate: 0.2\n",
            "\u001b[34m\u001b[1mwandb\u001b[0m: \tkernel_sizes: [3, 5, 3, 5, 3]\n",
            "\u001b[34m\u001b[1mwandb\u001b[0m: \tlearning_rate: 0.001\n",
            "\u001b[34m\u001b[1mwandb\u001b[0m: \tuse_batchnorm: True\n",
            "\u001b[34m\u001b[1mwandb\u001b[0m: \tweight_decay: 0.001\n"
          ]
        },
        {
          "output_type": "display_data",
          "data": {
            "text/plain": [
              "<IPython.core.display.HTML object>"
            ],
            "text/html": [
              "Tracking run with wandb version 0.19.9"
            ]
          },
          "metadata": {}
        },
        {
          "output_type": "display_data",
          "data": {
            "text/plain": [
              "<IPython.core.display.HTML object>"
            ],
            "text/html": [
              "Run data is saved locally in <code>/content/wandb/run-20250412_110912-9sy6k60j</code>"
            ]
          },
          "metadata": {}
        },
        {
          "output_type": "display_data",
          "data": {
            "text/plain": [
              "<IPython.core.display.HTML object>"
            ],
            "text/html": [
              "Syncing run <strong><a href='https://wandb.ai/surendarmohan283-indian-institute-of-technology-madras/DA6401_A2/runs/9sy6k60j' target=\"_blank\">zesty-sweep-4</a></strong> to <a href='https://wandb.ai/surendarmohan283-indian-institute-of-technology-madras/DA6401_A2' target=\"_blank\">Weights & Biases</a> (<a href='https://wandb.me/developer-guide' target=\"_blank\">docs</a>)<br>Sweep page: <a href='https://wandb.ai/surendarmohan283-indian-institute-of-technology-madras/DA6401_A2/sweeps/5fyrhqnv' target=\"_blank\">https://wandb.ai/surendarmohan283-indian-institute-of-technology-madras/DA6401_A2/sweeps/5fyrhqnv</a>"
            ]
          },
          "metadata": {}
        },
        {
          "output_type": "display_data",
          "data": {
            "text/plain": [
              "<IPython.core.display.HTML object>"
            ],
            "text/html": [
              " View project at <a href='https://wandb.ai/surendarmohan283-indian-institute-of-technology-madras/DA6401_A2' target=\"_blank\">https://wandb.ai/surendarmohan283-indian-institute-of-technology-madras/DA6401_A2</a>"
            ]
          },
          "metadata": {}
        },
        {
          "output_type": "display_data",
          "data": {
            "text/plain": [
              "<IPython.core.display.HTML object>"
            ],
            "text/html": [
              " View sweep at <a href='https://wandb.ai/surendarmohan283-indian-institute-of-technology-madras/DA6401_A2/sweeps/5fyrhqnv' target=\"_blank\">https://wandb.ai/surendarmohan283-indian-institute-of-technology-madras/DA6401_A2/sweeps/5fyrhqnv</a>"
            ]
          },
          "metadata": {}
        },
        {
          "output_type": "display_data",
          "data": {
            "text/plain": [
              "<IPython.core.display.HTML object>"
            ],
            "text/html": [
              " View run at <a href='https://wandb.ai/surendarmohan283-indian-institute-of-technology-madras/DA6401_A2/runs/9sy6k60j' target=\"_blank\">https://wandb.ai/surendarmohan283-indian-institute-of-technology-madras/DA6401_A2/runs/9sy6k60j</a>"
            ]
          },
          "metadata": {}
        },
        {
          "output_type": "stream",
          "name": "stderr",
          "text": [
            " 70%|██████▉   | 44/63 [01:20<00:21,  1.15s/batch, loss=2.1625, acc=19.4%]"
          ]
        }
      ]
    },
    {
      "cell_type": "code",
      "source": [],
      "metadata": {
        "id": "jdCIWS-MxZVn"
      },
      "execution_count": null,
      "outputs": []
    }
  ]
}
